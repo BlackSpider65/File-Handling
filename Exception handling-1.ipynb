{
 "cells": [
  {
   "cell_type": "markdown",
   "id": "ea6715c4",
   "metadata": {},
   "source": [
    "### Question No :- 01"
   ]
  },
  {
   "cell_type": "markdown",
   "id": "6e194991",
   "metadata": {},
   "source": [
    "An exception in Python refers to an error that occurs during the execution of a program, which disrupts the normal flow of the program. Exceptions can be caused by various reasons, such as invalid input, file not found, division by zero, and more."
   ]
  },
  {
   "cell_type": "markdown",
   "id": "9cfe559b",
   "metadata": {},
   "source": [
    "Exceptions in Python:- Exceptions are runtime errors that occur during the execution of a Python program. They are raised when an error condition is encountered (e.g., trying to divide by zero, accessing a non-existent file, calling a method on an object that doesn't support it).You can handle exceptions using try, except, else, and finally blocks. This allows you to gracefully recover from errors and continue execution."
   ]
  },
  {
   "cell_type": "markdown",
   "id": "252657cf",
   "metadata": {},
   "source": [
    "SyntaxError in Python:-  SyntaxError is not an exception that occurs during runtime; it's a compile-time error.\n",
    "It is raised when the Python interpreter encounters a syntax error in your code, meaning the code does not follow the correct Python syntax rules.\n",
    "This error prevents the program from being compiled or executed until the syntax error is fixed.\n",
    "Common causes of SyntaxError include missing parentheses, improper indentation, using a keyword as a variable name, etc."
   ]
  },
  {
   "cell_type": "markdown",
   "id": "c3c1c814",
   "metadata": {},
   "source": [
    "### Question No :- 02"
   ]
  },
  {
   "cell_type": "markdown",
   "id": "a8108c89",
   "metadata": {},
   "source": [
    " An unhandled exception occurs when an error occurs during the execution of the program, but there is no code to catch or handle that error. "
   ]
  },
  {
   "cell_type": "code",
   "execution_count": 1,
   "id": "95f02998",
   "metadata": {},
   "outputs": [
    {
     "name": "stdout",
     "output_type": "stream",
     "text": [
      "finally block is excuted.\n"
     ]
    },
    {
     "ename": "ZeroDivisionError",
     "evalue": "division by zero",
     "output_type": "error",
     "traceback": [
      "\u001b[1;31m---------------------------------------------------------------------------\u001b[0m",
      "\u001b[1;31mZeroDivisionError\u001b[0m                         Traceback (most recent call last)",
      "\u001b[1;32m~\\AppData\\Local\\Temp\\ipykernel_2588\\436548249.py\u001b[0m in \u001b[0;36m<module>\u001b[1;34m\u001b[0m\n\u001b[0;32m      2\u001b[0m     \u001b[1;32mreturn\u001b[0m \u001b[0ma\u001b[0m\u001b[1;33m/\u001b[0m\u001b[0mb\u001b[0m\u001b[1;33m\u001b[0m\u001b[1;33m\u001b[0m\u001b[0m\n\u001b[0;32m      3\u001b[0m \u001b[1;32mtry\u001b[0m \u001b[1;33m:\u001b[0m\u001b[1;33m\u001b[0m\u001b[1;33m\u001b[0m\u001b[0m\n\u001b[1;32m----> 4\u001b[1;33m     \u001b[0mresult\u001b[0m \u001b[1;33m=\u001b[0m \u001b[0mdivided\u001b[0m\u001b[1;33m(\u001b[0m\u001b[1;36m5\u001b[0m\u001b[1;33m,\u001b[0m\u001b[1;36m0\u001b[0m\u001b[1;33m)\u001b[0m\u001b[1;33m\u001b[0m\u001b[1;33m\u001b[0m\u001b[0m\n\u001b[0m\u001b[0;32m      5\u001b[0m     \u001b[0mprint\u001b[0m\u001b[1;33m(\u001b[0m\u001b[1;34mf\"the result is:{result}\"\u001b[0m\u001b[1;33m)\u001b[0m\u001b[1;33m\u001b[0m\u001b[1;33m\u001b[0m\u001b[0m\n\u001b[0;32m      6\u001b[0m \u001b[1;32mexcept\u001b[0m \u001b[0mValueError\u001b[0m\u001b[1;33m:\u001b[0m\u001b[1;33m\u001b[0m\u001b[1;33m\u001b[0m\u001b[0m\n",
      "\u001b[1;32m~\\AppData\\Local\\Temp\\ipykernel_2588\\436548249.py\u001b[0m in \u001b[0;36mdivided\u001b[1;34m(a, b)\u001b[0m\n\u001b[0;32m      1\u001b[0m \u001b[1;32mdef\u001b[0m \u001b[0mdivided\u001b[0m\u001b[1;33m(\u001b[0m\u001b[0ma\u001b[0m\u001b[1;33m,\u001b[0m\u001b[0mb\u001b[0m\u001b[1;33m)\u001b[0m\u001b[1;33m:\u001b[0m\u001b[1;33m\u001b[0m\u001b[1;33m\u001b[0m\u001b[0m\n\u001b[1;32m----> 2\u001b[1;33m     \u001b[1;32mreturn\u001b[0m \u001b[0ma\u001b[0m\u001b[1;33m/\u001b[0m\u001b[0mb\u001b[0m\u001b[1;33m\u001b[0m\u001b[1;33m\u001b[0m\u001b[0m\n\u001b[0m\u001b[0;32m      3\u001b[0m \u001b[1;32mtry\u001b[0m \u001b[1;33m:\u001b[0m\u001b[1;33m\u001b[0m\u001b[1;33m\u001b[0m\u001b[0m\n\u001b[0;32m      4\u001b[0m     \u001b[0mresult\u001b[0m \u001b[1;33m=\u001b[0m \u001b[0mdivided\u001b[0m\u001b[1;33m(\u001b[0m\u001b[1;36m5\u001b[0m\u001b[1;33m,\u001b[0m\u001b[1;36m0\u001b[0m\u001b[1;33m)\u001b[0m\u001b[1;33m\u001b[0m\u001b[1;33m\u001b[0m\u001b[0m\n\u001b[0;32m      5\u001b[0m     \u001b[0mprint\u001b[0m\u001b[1;33m(\u001b[0m\u001b[1;34mf\"the result is:{result}\"\u001b[0m\u001b[1;33m)\u001b[0m\u001b[1;33m\u001b[0m\u001b[1;33m\u001b[0m\u001b[0m\n",
      "\u001b[1;31mZeroDivisionError\u001b[0m: division by zero"
     ]
    }
   ],
   "source": [
    "def divided(a,b):\n",
    "    return a/b\n",
    "try :\n",
    "    result = divided(5,0)\n",
    "    print(f\"the result is:{result}\")\n",
    "except ValueError:\n",
    "    print(\"caught a value error.\")\n",
    "finally :\n",
    "    print(\"finally block is excuted.\")\n",
    "print(\"Program continues after the exception.\")"
   ]
  },
  {
   "cell_type": "markdown",
   "id": "96f9f39a",
   "metadata": {},
   "source": [
    "In this example, the divide function attempts to divide two numbers, but it doesn't handle the case where the divisor (b) is zero."
   ]
  },
  {
   "cell_type": "markdown",
   "id": "7d9295a2",
   "metadata": {},
   "source": [
    "### Question No :- 03"
   ]
  },
  {
   "cell_type": "markdown",
   "id": "e4751dcb",
   "metadata": {},
   "source": [
    "In Python, you can use the try, except, else, and finally statements to catch and handle exceptions. These statements allow you to gracefully handle errors, recover from exceptional situations, and ensure that critical resources are properly managed."
   ]
  },
  {
   "cell_type": "code",
   "execution_count": 2,
   "id": "be02ef8d",
   "metadata": {},
   "outputs": [
    {
     "name": "stdout",
     "output_type": "stream",
     "text": [
      "The Result is: 2.5\n",
      "the finally block is excuted.\n",
      "division by zero\n",
      "the finally block is excuted.\n",
      "unsupported operand type(s) for /: 'str' and 'int'\n",
      "the finally block is excuted.\n"
     ]
    }
   ],
   "source": [
    "def divide(a, b):\n",
    "    try:\n",
    "        result = a/b\n",
    "    except ZeroDivisionError as e :\n",
    "        print(e)\n",
    "    except TypeError as e :\n",
    "        print(e)\n",
    "    else :\n",
    "        print(f\"The Result is: {result}\")\n",
    "    finally :\n",
    "        print(\"the finally block is excuted.\")\n",
    "try :\n",
    "    divide(5, 2)  # This should work fine\n",
    "    divide(5, 0)  # This is genrate the Zero Division Error\n",
    "    divide(\"5\", 2) # This is genrate the Type Error\n",
    "except Exception as e :\n",
    "    print(e)"
   ]
  },
  {
   "cell_type": "markdown",
   "id": "8e162548",
   "metadata": {},
   "source": [
    "### Question No :- 04"
   ]
  },
  {
   "cell_type": "markdown",
   "id": "840f17b7",
   "metadata": {},
   "source": [
    "try:- This block contains the code that might raise an exception. You put the code that could potentially cause an exception inside the try block.\n",
    "else:- The else block is optional and runs if no exceptions were raised in the try block. It's useful for code that should run when the try block completes successfully.\n",
    "finally:- The finally block is also optional and always runs, regardless of whether an exception was raised or not. It's used for cleaning up resources, such as closing files, regardless of exceptions.\n",
    "raise :- The raise statement is used to explicitly raise exceptions. It allows you to trigger specific exceptions manually based on certain conditions or events in your code. "
   ]
  },
  {
   "cell_type": "code",
   "execution_count": 6,
   "id": "59e96fa9",
   "metadata": {},
   "outputs": [
    {
     "name": "stdout",
     "output_type": "stream",
     "text": [
      "Caught an exception: Division by zero is not allowed\n",
      "Finally block executed\n",
      "Program continues after exceptions\n"
     ]
    }
   ],
   "source": [
    "def divide(a, b):\n",
    "    if b == 0:\n",
    "        raise ZeroDivisionError(\"Division by zero is not allowed\")\n",
    "    return a / b\n",
    "\n",
    "try:\n",
    "    result = divide(10, 0)  # This will raise a ZeroDivisionError\n",
    "except ZeroDivisionError as e:\n",
    "    print(\"Caught an exception:\", e)\n",
    "else:\n",
    "    print(\"Result:\", result)\n",
    "finally:\n",
    "    print(\"Finally block executed\")\n",
    "\n",
    "print(\"Program continues after exceptions\")"
   ]
  },
  {
   "cell_type": "markdown",
   "id": "6aaa89cd",
   "metadata": {},
   "source": [
    "### Question No :- 05"
   ]
  },
  {
   "cell_type": "markdown",
   "id": "03c5831f",
   "metadata": {},
   "source": [
    "Custom exceptions in Python are user-defined exception classes that you create to handle specific error conditions or exceptional situations in your code. By creating custom exceptions, you can provide more meaningful and descriptive error messages to users, making it easier to understand the nature of the problem and helping with debugging."
   ]
  },
  {
   "cell_type": "markdown",
   "id": "6fb25eb0",
   "metadata": {},
   "source": [
    "Custom exceptions in Python are useful for several reasons:-\n",
    "\n",
    "1) Clarity and Readability:- Custom exceptions allow you to give meaningful names to specific error scenarios in your code.        This makes your code more readable and self-explanatory, as the exception names provide clear context about what went wrong.\n",
    "\n",
    "2) Error Differentiation:- Custom exceptions help you differentiate between various error conditions in your code. By creating    custom exception classes for different types of errors, you can handle them separately, providing specific error handling      logic for each case.\n",
    "\n",
    "3) Debugging:- Custom exceptions can provide additional information, such as custom error messages or attributes, which can be    extremely helpful for debugging. They give you a way to communicate the details of the error to the user or to log the error    information."
   ]
  },
  {
   "cell_type": "code",
   "execution_count": 9,
   "id": "6f4b4753",
   "metadata": {},
   "outputs": [
    {
     "name": "stdout",
     "output_type": "stream",
     "text": [
      "Custom validation error caught: Validation error in 'email': Invalid email format\n"
     ]
    }
   ],
   "source": [
    "class CustomValidationError(Exception):\n",
    "    \"\"\"Custom exception for validation errors.\"\"\"\n",
    "    def __init__(self, field, message):\n",
    "        self.field = field\n",
    "        self.message = message\n",
    "        super().__init__(f\"Validation error in '{field}': {message}\")\n",
    "\n",
    "def validate_email(email):\n",
    "    if \"@\" not in email:\n",
    "        raise CustomValidationError(\"email\", \"Invalid email format\")\n",
    "\n",
    "try:\n",
    "    validate_email(\"invalid_email.com\")\n",
    "except CustomValidationError as e:\n",
    "    print(\"Custom validation error caught:\", e)\n"
   ]
  },
  {
   "cell_type": "markdown",
   "id": "228b702c",
   "metadata": {},
   "source": [
    "### Question No :- 06"
   ]
  },
  {
   "cell_type": "code",
   "execution_count": 12,
   "id": "445545ce",
   "metadata": {},
   "outputs": [
    {
     "name": "stdout",
     "output_type": "stream",
     "text": [
      "Negative number detected: -3\n"
     ]
    }
   ],
   "source": [
    "class NegativeNumberError(Exception):\n",
    "    \"\"\"custom exception for handling negative number\"\"\"\n",
    "    def __init__(self, value):\n",
    "        self.value = value\n",
    "        super().__init__(f\"Negative number detected: {value}\")\n",
    "        \n",
    "def process_postive_number(numbers):\n",
    "    result = []\n",
    "    for i in numbers:\n",
    "        if i<0 :\n",
    "            raise NegativeNumberError(i)\n",
    "        result.append(i)\n",
    "    return result \n",
    "\n",
    "try :\n",
    "    numbers = [1,2,-3,4,-5,6]\n",
    "    result = process_postive_number(numbers)\n",
    "    print(f\"process number {result}\")\n",
    "except NegativeNumberError as e :\n",
    "    print(e)"
   ]
  },
  {
   "cell_type": "code",
   "execution_count": null,
   "id": "3b1d37a2",
   "metadata": {},
   "outputs": [],
   "source": []
  }
 ],
 "metadata": {
  "kernelspec": {
   "display_name": "Python 3 (ipykernel)",
   "language": "python",
   "name": "python3"
  },
  "language_info": {
   "codemirror_mode": {
    "name": "ipython",
    "version": 3
   },
   "file_extension": ".py",
   "mimetype": "text/x-python",
   "name": "python",
   "nbconvert_exporter": "python",
   "pygments_lexer": "ipython3",
   "version": "3.9.13"
  }
 },
 "nbformat": 4,
 "nbformat_minor": 5
}
