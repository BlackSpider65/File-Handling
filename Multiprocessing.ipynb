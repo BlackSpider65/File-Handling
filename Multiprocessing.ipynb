{
 "cells": [
  {
   "cell_type": "markdown",
   "id": "b63de4c9",
   "metadata": {},
   "source": [
    "### Question No :- 01"
   ]
  },
  {
   "cell_type": "markdown",
   "id": "10a78b18",
   "metadata": {},
   "source": [
    "Multiprocessing in Python refers to the technique of using multiple processes to perform tasks or computations concurrently. Python's multiprocessing module provides a way to create and manage multiple processes, enabling parallelism in your Python programs.\n",
    "\n",
    "Here are some key reasons why multiprocessing is useful in Python:-\n",
    "\n",
    "Improved Performance:- Multiprocessing allows you to split a time-consuming task into smaller chunks and run them concurrently on multiple CPU cores. This can lead to significant performance improvements, as each core can work on a separate part of the task simultaneously.\n",
    "\n",
    "Parallelism:- It enables true parallelism, meaning that multiple processes run independently of each other. This is different from Python's Global Interpreter Lock (GIL), which prevents multiple native threads from executing Python code in true parallel. With multiprocessing, you can achieve parallelism even for CPU-bound tasks.\n",
    "\n",
    "Utilizing Multiple Cores:- Modern computers typically have multiple CPU cores, and multiprocessing enables you to make use of all available cores efficiently. This can be crucial for computationally intensive applications such as data processing, scientific computing, and simulations.\n",
    "\n",
    "Isolation:- Each process in multiprocessing has its own memory space, which makes it easier to manage and reason about the state of the program. This isolation can help prevent issues related to shared state and data corruption, which can be challenging in multithreaded programs.\n"
   ]
  },
  {
   "cell_type": "code",
   "execution_count": null,
   "id": "85c4e3cb",
   "metadata": {},
   "outputs": [],
   "source": [
    "# Example\n",
    "\n",
    "import multiprocessing\n",
    "\n",
    "def worker_function(item):\n",
    "    return item*2\n",
    "\n",
    "if __name__ == \"__main__\" :\n",
    "    item = [1,2,3,4,5]\n",
    "    pool = multiprocessing.Pool(processes=4)\n",
    "    result = pool.map(worker_function, item)\n",
    "    pool.close()\n",
    "    pool.join()\n",
    "    print(result)"
   ]
  },
  {
   "cell_type": "markdown",
   "id": "3d66ea99",
   "metadata": {},
   "source": [
    "### Question No :- 02"
   ]
  },
  {
   "cell_type": "markdown",
   "id": "b0185bf8",
   "metadata": {},
   "source": [
    "Multiprocessing and multithreading are both techniques used to achieve concurrency in a program, but they differ in how they create and manage concurrent execution. Here are the key differences between multiprocessing and multithreading in Python:-\n",
    "\n",
    "Parallelism vs. Concurrency:-\n",
    "\n",
    "Multiprocessing:- In multiprocessing, multiple independent processes are created, each with its own Python interpreter and memory space. These processes can run truly in parallel on multiple CPU cores. This is suitable for CPU-bound tasks where you want to maximize CPU utilization.\n",
    "\n",
    "Multithreading:- In multithreading, multiple threads are created within a single process, and they share the same memory space and Python interpreter. However, due to Python's Global Interpreter Lock (GIL), only one thread can execute Python bytecode at a time. This means that multithreading is suitable for I/O-bound tasks (where threads can wait for I/O operations) but not ideal for CPU-bound tasks that require true parallelism.\n",
    "\n",
    "Isolation:-\n",
    "\n",
    "Multiprocessing:- Processes are isolated from each other, which means they do not share memory by default. This isolation helps in avoiding data corruption and simplifies parallelism.\n",
    "\n",
    "Multithreading:- Threads share the same memory space, which can lead to complex synchronization issues and potential data corruption if not managed carefully.\n",
    "\n",
    "Communication:-\n",
    "\n",
    "Multiprocessing:- Processes communicate with each other through inter-process communication (IPC) mechanisms such as queues, pipes, or shared memory. This communication can be a bit more involved compared to multithreading.\n",
    "\n",
    "Multithreading:- Threads can communicate more easily since they share memory. However, this can also lead to race conditions and require careful synchronization using locks, semaphores, and other threading primitives.\n"
   ]
  },
  {
   "cell_type": "markdown",
   "id": "d1ee51a3",
   "metadata": {},
   "source": [
    "### Question No :- 03"
   ]
  },
  {
   "cell_type": "code",
   "execution_count": null,
   "id": "402303c0",
   "metadata": {},
   "outputs": [],
   "source": [
    "import multiprocessing\n",
    "\n",
    "def worker_function(name):\n",
    "    print(f\"Hello, {name}! \")\n",
    "\n",
    "if __name__ == \"__main__\" :\n",
    "    process = multiprocessing.Process(target=worker_function , args=(\"Alice\",))\n",
    "    process.start()\n",
    "    process.join()\n",
    "    print(\"The multiprocessing is finished.\")"
   ]
  },
  {
   "cell_type": "markdown",
   "id": "d3920949",
   "metadata": {},
   "source": [
    "### Question No :- 04"
   ]
  },
  {
   "cell_type": "markdown",
   "id": "be0f2b1f",
   "metadata": {},
   "source": [
    "A multiprocessing pool in Python, often represented by the multiprocessing.Pool class, is a high-level abstraction provided by the multiprocessing module. It is used to create and manage a pool of worker processes that can efficiently execute multiple tasks in parallel. The pool abstracts away the complexity of manually creating and managing individual processes, making it easier to parallelize tasks.\n",
    "\n",
    "why a multiprocessing pool is used:-\n",
    "\n",
    "Concurrent Execution:- A multiprocessing pool allows you to distribute a set of tasks or function calls across multiple processes concurrently. Each task is executed by one of the worker processes in the pool. This is particularly useful for CPU-bound tasks that can benefit from parallel processing.\n",
    "\n",
    "Ease of Use:- Using a pool simplifies the process of creating and managing processes. You don't have to manually create and start individual processes, manage their lifecycles, or handle communication between them. The pool abstracts these details, making parallelization more accessible.\n",
    "\n",
    "Resource Management:- The pool automatically manages the number of worker processes based on the available CPU cores, helping you maximize CPU utilization without overloading the system. You can specify the number of processes you want in the pool or let it default to the number of CPU cores.\n",
    "\n"
   ]
  },
  {
   "cell_type": "code",
   "execution_count": null,
   "id": "8355d255",
   "metadata": {},
   "outputs": [],
   "source": [
    "# Example\n",
    "\n",
    "import multiprocessing\n",
    "\n",
    "def square_function(item):\n",
    "    return item*item\n",
    "\n",
    "if __name__ == \"__main__\" :\n",
    "    pool = multiprocessing.Pool()\n",
    "    \n",
    "    numbers = [1,2,3,4,5]\n",
    "    result = pool.map(square_function , numbers)\n",
    "    pool.close()\n",
    "    pool.join()\n",
    "    print(result)\n",
    "\n"
   ]
  },
  {
   "cell_type": "markdown",
   "id": "52d1eb73",
   "metadata": {},
   "source": [
    "### Question No :- 05"
   ]
  },
  {
   "cell_type": "code",
   "execution_count": null,
   "id": "1c95177b",
   "metadata": {},
   "outputs": [],
   "source": [
    "import multiprocessing\n",
    "\n",
    "def worker_function(arg):\n",
    "    result = arg * 2\n",
    "    return result\n",
    "\n",
    "if __name__ == \"__main__\":\n",
    "    num_processes = multiprocessing.cpu_count()\n",
    "    pool = multiprocessing.Pool(processes=num_processes)\n",
    "\n",
    "    input_data = [1, 2, 3, 4, 5, 6, 7, 8, 9, 10]\n",
    "\n",
    "    results = pool.map(worker_function, input_data)\n",
    "\n",
    "    pool.close()\n",
    "    pool.join()\n",
    "\n",
    "    print(results)\n"
   ]
  },
  {
   "cell_type": "markdown",
   "id": "478d53ba",
   "metadata": {},
   "source": [
    "### Question No :- 06"
   ]
  },
  {
   "cell_type": "code",
   "execution_count": null,
   "id": "080ca585",
   "metadata": {},
   "outputs": [],
   "source": [
    "import multiprocessing\n",
    "\n",
    "def print_number(number):\n",
    "    print(f\"Process {multiprocessing.current_process().name} printed: {number}\")\n",
    "\n",
    "if __name__ == \"__main__\":\n",
    "    processes = []\n",
    "\n",
    "    for i in range(1, 5):\n",
    "        process = multiprocessing.Process(target=print_number, args=(i,))\n",
    "        processes.append(process)\n",
    "        process.start()\n",
    "\n",
    "    for process in processes:\n",
    "        process.join()\n"
   ]
  }
 ],
 "metadata": {
  "kernelspec": {
   "display_name": "Python 3 (ipykernel)",
   "language": "python",
   "name": "python3"
  },
  "language_info": {
   "codemirror_mode": {
    "name": "ipython",
    "version": 3
   },
   "file_extension": ".py",
   "mimetype": "text/x-python",
   "name": "python",
   "nbconvert_exporter": "python",
   "pygments_lexer": "ipython3",
   "version": "3.9.13"
  }
 },
 "nbformat": 4,
 "nbformat_minor": 5
}
