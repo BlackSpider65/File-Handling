{
 "cells": [
  {
   "cell_type": "markdown",
   "id": "1113b7b2",
   "metadata": {},
   "source": [
    "### Question No :- 01"
   ]
  },
  {
   "cell_type": "markdown",
   "id": "7eefeafd",
   "metadata": {},
   "source": [
    "Multithreading in Python refers to the concurrent execution of multiple threads within a single process. A thread is the smallest unit of a CPU's execution, and multithreading allows you to perform multiple tasks concurrently, which can lead to better utilization of system resources and improved responsiveness in certain cases.\n",
    "\n",
    "Python provides a built-in module called threading to work with threads. This module allows you to create and manage threads within your Python programs. It provides classes and functions for thread creation, synchronization, and coordination. \n",
    "\n",
    "To handle CPU-bound tasks with better parallelism, you might consider using the multiprocessing module, which allows you to create multiple processes that run in separate memory spaces and can utilize multiple CPU cores effectively."
   ]
  },
  {
   "cell_type": "markdown",
   "id": "02ccf36e",
   "metadata": {},
   "source": [
    "### Question No :- 02"
   ]
  },
  {
   "cell_type": "markdown",
   "id": "96629172",
   "metadata": {},
   "source": [
    "The threading module in Python is used to work with threads, which are lightweight units of execution within a program. Threads allow you to perform multiple tasks concurrently, which can lead to improved program responsiveness and better utilization of system resources. \n",
    "\n",
    "1} activeCount():- In Python's threading module, the activeCount() function is used to return the number of Thread objects currently alive. A Thread object represents a separate thread of execution. "
   ]
  },
  {
   "cell_type": "code",
   "execution_count": 5,
   "id": "36663774",
   "metadata": {},
   "outputs": [
    {
     "name": "stdout",
     "output_type": "stream",
     "text": [
      "the active threading is:6\n"
     ]
    }
   ],
   "source": [
    "#Example\n",
    "\n",
    "import threading \n",
    "\n",
    "def threading_function() :\n",
    "    pass\n",
    "\n",
    "thread = []\n",
    "for i in range(5):\n",
    "    num = threading.Thread(target=threading_function)\n",
    "    thread.append(num)\n",
    "    num.start()\n",
    "    \n",
    "active_threading_count = threading.activeCount()\n",
    "print(f\"the active threading is:{active_threading_count}\")"
   ]
  },
  {
   "cell_type": "markdown",
   "id": "6619ddc0",
   "metadata": {},
   "source": [
    "currentThread():- In Python's threading module, the currentThread() function is used to retrieve the currently executing Thread object. A Thread object represents a separate thread of execution within a program. The currentThread() function is a static method of the threading module, so you don't need to create an instance of the module to use it."
   ]
  },
  {
   "cell_type": "code",
   "execution_count": 3,
   "id": "aee2bfca",
   "metadata": {},
   "outputs": [
    {
     "name": "stdout",
     "output_type": "stream",
     "text": [
      "the current thread is: CustomThread\n",
      "the main thread name: MainThread\n"
     ]
    }
   ],
   "source": [
    "# Example\n",
    "\n",
    "import threading\n",
    "\n",
    "def thread_function():\n",
    "    \n",
    "    thread = threading.currentThread()\n",
    "    print(\"the current thread is:\",thread.name)\n",
    "\n",
    "thr = threading.Thread(target=thread_function, name=\"CustomThread\")\n",
    "thr.start()\n",
    "thr.join()\n",
    "main_thread = threading.currentThread()\n",
    "print(\"the main thread name:\",main_thread.name)\n",
    "          \n"
   ]
  },
  {
   "cell_type": "markdown",
   "id": "d77ec18b",
   "metadata": {},
   "source": [
    " enumerate():- The enumerate() function can be used to keep track of and manage multiple threads. The enumerate() function is commonly used to iterate over a collection while keeping track of the index or position of the current item. However, in the context of multithreading, you can use it to manage and monitor running threads.\n",
    "\n"
   ]
  },
  {
   "cell_type": "code",
   "execution_count": 4,
   "id": "ef17f62b",
   "metadata": {},
   "outputs": [
    {
     "name": "stdout",
     "output_type": "stream",
     "text": [
      "The Theard 0 startedThe Theard 1 started\n",
      "\n",
      "The Theard 2 started\n",
      "The Theard 3 started\n",
      "The Theard 4 started\n",
      "The Theard 3 finshed\n",
      "The Theard 0 finshed\n",
      "Thread 0 jointed.\n",
      "The Theard 4 finshed\n",
      "The Theard 2 finshed\n",
      "The Theard 1 finshed\n",
      "Thread 1 jointed.\n",
      "Thread 2 jointed.\n",
      "Thread 3 jointed.\n",
      "Thread 4 jointed.\n",
      "All the Thread is Done.\n"
     ]
    }
   ],
   "source": [
    "# Example \n",
    "\n",
    "import threading\n",
    "import time\n",
    "\n",
    "def worker_theard(theard_id):\n",
    "    print(f\"The Theard {theard_id} started\")\n",
    "    time.sleep(2)\n",
    "    print(f\"The Theard {theard_id} finshed\")\n",
    "    \n",
    "theards =[]\n",
    "for i in range(5):\n",
    "    theard = threading.Thread(target=worker_theard,args=(i,))\n",
    "    theards.append(theard)\n",
    "    theard.start()\n",
    "\n",
    "for i, thread in enumerate(theards):\n",
    "    thread.join()\n",
    "    print(f\"Thread {i} jointed.\")\n",
    "    \n",
    "print(\"All the Thread is Done.\")\n",
    "    "
   ]
  },
  {
   "cell_type": "markdown",
   "id": "9393ce72",
   "metadata": {},
   "source": [
    "### Question No :- 03"
   ]
  },
  {
   "cell_type": "markdown",
   "id": "c4da0ed6",
   "metadata": {},
   "source": [
    "run() :- The run() method is not typically used directly for creating and managing threads. Instead, you usually define your own function or method that does the work you want the thread to perform, and then you pass this function or method as the target argument when creating a Thread object. When you start the thread, it automatically calls the run() method, which internally executes the function you specified.\n",
    "\n",
    "join() :- The join() method is used to wait for a thread to complete its execution before proceeding with the rest of the program. It's a way to synchronize the main thread (or any other thread) with the thread being joined."
   ]
  },
  {
   "cell_type": "code",
   "execution_count": 6,
   "id": "024f9bfc",
   "metadata": {},
   "outputs": [
    {
     "name": "stdout",
     "output_type": "stream",
     "text": [
      "Thread-15 started.\n",
      "Thread-16 started.\n",
      "Thread-17 started.\n",
      "Thread-18 started.\n",
      "Thread-19 started.\n",
      "Thread-19 finshed.\n",
      "Thread-17 finshed.\n",
      "Thread-16 finshed.\n",
      "Thread-15 finshed.\n",
      "Thread-18 finshed.\n",
      "All Thread is finshed.\n"
     ]
    }
   ],
   "source": [
    "# Example \n",
    "\n",
    "import threading\n",
    "import time\n",
    "\n",
    "class MyThread(threading.Thread):\n",
    "    def run(self):\n",
    "        print(f\"{self.getName()} started.\")\n",
    "        time.sleep(2)\n",
    "        print(f\"{self.getName()} finshed.\")\n",
    "        \n",
    "threads = []\n",
    "for i in range(5):\n",
    "    thread = MyThread()\n",
    "    threads.append(thread)\n",
    "    thread.start()\n",
    "    \n",
    "for thread in threads :\n",
    "    thread.join()\n",
    "    \n",
    "print(\"All Thread is finshed.\")\n",
    "    "
   ]
  },
  {
   "cell_type": "markdown",
   "id": "d7d00dc6",
   "metadata": {},
   "source": [
    "start() :-  The start() method is used to begin the execution of a thread. When you create a thread object using the threading.Thread class and define the target function (the function to be executed in the thread's context), you need to call the start() method on that thread object to initiate its execution."
   ]
  },
  {
   "cell_type": "code",
   "execution_count": 7,
   "id": "57a29a06",
   "metadata": {},
   "outputs": [
    {
     "name": "stdout",
     "output_type": "stream",
     "text": [
      "Thread is running.\n"
     ]
    }
   ],
   "source": [
    "# Example \n",
    "\n",
    "import threading\n",
    "\n",
    "def my_function() :\n",
    "    print(\"Thread is running.\")\n",
    "    \n",
    "my_thread = threading.Thread(target=my_function)\n",
    "my_thread.start()\n"
   ]
  },
  {
   "cell_type": "markdown",
   "id": "3a749ca2",
   "metadata": {},
   "source": [
    "isAlive() :-  The isAlive() method is used to check if a thread is currently running or active. It's a method of the Thread class and can be called on a Thread object to determine its status."
   ]
  },
  {
   "cell_type": "code",
   "execution_count": 9,
   "id": "48186226",
   "metadata": {},
   "outputs": [
    {
     "name": "stderr",
     "output_type": "stream",
     "text": [
      "Exception in thread Thread-22:\n",
      "Traceback (most recent call last):\n",
      "  File \"C:\\ProgramData\\Anaconda3\\lib\\threading.py\", line 980, in _bootstrap_inner\n"
     ]
    },
    {
     "ename": "AttributeError",
     "evalue": "'Thread' object has no attribute 'isAlive'",
     "output_type": "error",
     "traceback": [
      "\u001b[1;31m---------------------------------------------------------------------------\u001b[0m",
      "\u001b[1;31mAttributeError\u001b[0m                            Traceback (most recent call last)",
      "\u001b[1;32m~\\AppData\\Local\\Temp\\ipykernel_6480\\3002797683.py\u001b[0m in \u001b[0;36m<module>\u001b[1;34m\u001b[0m\n\u001b[0;32m     12\u001b[0m \u001b[0mthread\u001b[0m\u001b[1;33m.\u001b[0m\u001b[0mstart\u001b[0m\u001b[1;33m(\u001b[0m\u001b[1;33m)\u001b[0m\u001b[1;33m\u001b[0m\u001b[1;33m\u001b[0m\u001b[0m\n\u001b[0;32m     13\u001b[0m \u001b[1;33m\u001b[0m\u001b[0m\n\u001b[1;32m---> 14\u001b[1;33m \u001b[1;32mif\u001b[0m \u001b[0mthread\u001b[0m\u001b[1;33m.\u001b[0m\u001b[0misAlive\u001b[0m\u001b[1;33m(\u001b[0m\u001b[1;33m)\u001b[0m\u001b[1;33m:\u001b[0m\u001b[1;33m\u001b[0m\u001b[1;33m\u001b[0m\u001b[0m\n\u001b[0m\u001b[0;32m     15\u001b[0m     \u001b[0mprint\u001b[0m\u001b[1;33m(\u001b[0m\u001b[1;34m\"thread is still running\"\u001b[0m\u001b[1;33m)\u001b[0m\u001b[1;33m\u001b[0m\u001b[1;33m\u001b[0m\u001b[0m\n\u001b[0;32m     16\u001b[0m \u001b[1;32melse\u001b[0m\u001b[1;33m:\u001b[0m\u001b[1;33m\u001b[0m\u001b[1;33m\u001b[0m\u001b[0m\n",
      "\u001b[1;31mAttributeError\u001b[0m: 'Thread' object has no attribute 'isAlive'"
     ]
    },
    {
     "name": "stderr",
     "output_type": "stream",
     "text": [
      "    self.run()\n",
      "  File \"C:\\ProgramData\\Anaconda3\\lib\\threading.py\", line 917, in run\n",
      "    self._target(*self._args, **self._kwargs)\n",
      "TypeError: worker_theard() missing 1 required positional argument: 'theard_id'\n"
     ]
    }
   ],
   "source": [
    "# Example \n",
    "\n",
    "import threading\n",
    "import time\n",
    "\n",
    "def worker_thread():\n",
    "    print(\"the thread is start\")\n",
    "    time.sleep(2)\n",
    "    print(\"the thread is end\")\n",
    "    \n",
    "thread = threading.Thread(target=worker_theard)\n",
    "thread.start()\n",
    "\n",
    "if thread.isAlive():\n",
    "    print(\"thread is still running\")\n",
    "else:\n",
    "    print(\"thread has finshed\")\n",
    "    \n",
    "thread.join()\n",
    "\n",
    "if thread.isAlive():\n",
    "    print(\"thread is still running\")\n",
    "else:\n",
    "    print(\"thread has finshed\")"
   ]
  },
  {
   "cell_type": "markdown",
   "id": "65f978fa",
   "metadata": {},
   "source": [
    "### Question No :- 04"
   ]
  },
  {
   "cell_type": "code",
   "execution_count": 11,
   "id": "37a3b796",
   "metadata": {},
   "outputs": [
    {
     "name": "stdout",
     "output_type": "stream",
     "text": [
      "square of 1 is 1\n",
      "square of 2 is 4\n",
      "square of 3 is 9\n",
      "square of 4 is 16\n",
      "square of 5 is 25\n",
      "cube of 1 is 64\n",
      "cube of 2 is 64\n",
      "cube of 3 is 64\n",
      "cube of 4 is 64\n",
      "cube of 5 is 64\n",
      "Both threads have finshed\n"
     ]
    }
   ],
   "source": [
    "import threading  \n",
    "\n",
    "def print_squares():\n",
    "    for i in range(1,6):\n",
    "        square = i*i\n",
    "        print(f\"square of {i} is {square}\")\n",
    "        \n",
    "def print_cube():\n",
    "    for j in range(1,6):\n",
    "        cube = i*i*i\n",
    "        print(f\"cube of {j} is {cube}\")\n",
    "        \n",
    "thread_one = threading.Thread(target=print_squares)\n",
    "thread_two = threading.Thread(target=print_cube)\n",
    "\n",
    "thread_one.start()\n",
    "thread_two.start()\n",
    "\n",
    "thread_one.join()\n",
    "thread_two.join()\n",
    "\n",
    "print(\"Both threads have finshed\")"
   ]
  },
  {
   "cell_type": "markdown",
   "id": "d43e3ac7",
   "metadata": {},
   "source": [
    "### Question No :- 05"
   ]
  },
  {
   "cell_type": "markdown",
   "id": "afd7167c",
   "metadata": {},
   "source": [
    "Advantages of Multithreading:-\n",
    "\n",
    "Concurrency:- Multithreading allows multiple threads to execute concurrently within a single process. This can lead to better resource utilization, as threads can perform tasks concurrently, especially when some threads are blocked, such as waiting for I/O operations.\n",
    "\n",
    "Responsiveness:- In applications with user interfaces (UIs), multithreading can enhance responsiveness. For example, the main thread can handle user input and interface updates, while secondary threads perform background tasks.\n",
    "\n",
    "Improved Performance:- For certain types of tasks, multithreading can improve performance by taking advantage of multiple CPU cores. This is particularly beneficial for CPU-bound tasks that can be parallelized.\n",
    "\n",
    "Resource Sharing:- Threads within the same process share memory space, making it easy to share data and resources among threads without the need for complex inter-process communication (IPC).\n",
    "\n",
    "Disadvantages of Multithreading:-\n",
    "\n",
    "Complexity and Debugging:- Multithreaded code can be challenging to write and debug. Race conditions, deadlocks, and other synchronization issues can be hard to identify and resolve.\n",
    "\n",
    "Race Conditions:- Race conditions occur when multiple threads access shared data concurrently, potentially leading to unpredictable behavior. Proper synchronization mechanisms (e.g., locks) are required to prevent race conditions.\n",
    "\n",
    "Deadlocks:- Deadlocks can occur when two or more threads are stuck in a state where they are waiting for each other to release resources. Detecting and resolving deadlocks can be complex.\n",
    "\n",
    "GIL Limitation (Python):- In Python, the Global Interpreter Lock (GIL) limits true parallel execution of threads. This means that multithreading may not fully utilize multiple CPU cores for CPU-bound tasks.\n",
    "\n"
   ]
  },
  {
   "cell_type": "markdown",
   "id": "592bbc59",
   "metadata": {},
   "source": [
    "### Question No :- 06"
   ]
  },
  {
   "cell_type": "markdown",
   "id": "068bc12c",
   "metadata": {},
   "source": [
    "Deadlock:-\n",
    "\n",
    "A deadlock is a situation in which two or more threads or processes are unable to proceed because each is waiting for the other(s) to release a resource. In other words, it's a circular waiting condition where processes or threads are stuck, and no progress can be made. There are typically four conditions that must be met for a deadlock to occur:\n",
    "\n",
    "Mutual Exclusion:- At least one resource must be non-shareable, meaning only one process/thread can use it at a time.\n",
    "\n",
    "Hold and Wait:- A process/thread must be holding at least one resource while waiting for another resource.\n",
    "\n",
    "No Preemption:- Resources cannot be forcibly taken away from a process/thread.\n",
    "\n",
    "\n",
    "Race Condition:-\n",
    "\n",
    "A race condition occurs when two or more threads or processes access shared data concurrently, and the final outcome depends on the timing or order of execution. This can lead to unpredictable and erroneous behavior because the result is not deterministic.\n",
    "\n",
    "Race conditions often happen when:\n",
    "\n",
    "Multiple threads access and modify shared data without proper synchronization.\n",
    "\n",
    "At least one thread performs a write operation on the shared data.\n",
    "\n",
    "The order of execution between threads is not guaranteed.\n"
   ]
  },
  {
   "cell_type": "code",
   "execution_count": null,
   "id": "de4cc018",
   "metadata": {},
   "outputs": [],
   "source": []
  }
 ],
 "metadata": {
  "kernelspec": {
   "display_name": "Python 3 (ipykernel)",
   "language": "python",
   "name": "python3"
  },
  "language_info": {
   "codemirror_mode": {
    "name": "ipython",
    "version": 3
   },
   "file_extension": ".py",
   "mimetype": "text/x-python",
   "name": "python",
   "nbconvert_exporter": "python",
   "pygments_lexer": "ipython3",
   "version": "3.9.13"
  }
 },
 "nbformat": 4,
 "nbformat_minor": 5
}
